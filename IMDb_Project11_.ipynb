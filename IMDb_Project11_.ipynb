{
 "cells": [
  {
   "cell_type": "markdown",
   "metadata": {
    "id": "JjWUYD5f9fiI"
   },
   "source": [
    "#  Fine-tuning on BERT with IMDb reviews."
   ]
  },
  {
   "cell_type": "code",
   "execution_count": 1,
   "metadata": {
    "colab": {
     "base_uri": "https://localhost:8080/"
    },
    "collapsed": true,
    "id": "bKP_8nV0N-BM",
    "outputId": "ebc2ac53-8b01-4f2e-ad4d-fd012050ddf4"
   },
   "outputs": [
    {
     "name": "stdout",
     "output_type": "stream",
     "text": [
      "\u001b[?25l   \u001b[90m━━━━━━━━━━━━━━━━━━━━━━━━━━━━━━━━━━━━━━━━\u001b[0m \u001b[32m0.0/5.7 MB\u001b[0m \u001b[31m?\u001b[0m eta \u001b[36m-:--:--\u001b[0m\r",
      "\u001b[2K   \u001b[91m━\u001b[0m\u001b[90m╺\u001b[0m\u001b[90m━━━━━━━━━━━━━━━━━━━━━━━━━━━━━━━━━━━━━━\u001b[0m \u001b[32m0.2/5.7 MB\u001b[0m \u001b[31m4.9 MB/s\u001b[0m eta \u001b[36m0:00:02\u001b[0m\r",
      "\u001b[2K   \u001b[91m━━━━━━━━━━\u001b[0m\u001b[90m╺\u001b[0m\u001b[90m━━━━━━━━━━━━━━━━━━━━━━━━━━━━━\u001b[0m \u001b[32m1.5/5.7 MB\u001b[0m \u001b[31m21.1 MB/s\u001b[0m eta \u001b[36m0:00:01\u001b[0m\r",
      "\u001b[2K   \u001b[91m━━━━━━━━━━━━━━━━━━━━━━━━━━━━━━━━━━━━━━━\u001b[0m\u001b[91m╸\u001b[0m \u001b[32m5.7/5.7 MB\u001b[0m \u001b[31m60.4 MB/s\u001b[0m eta \u001b[36m0:00:01\u001b[0m\r",
      "\u001b[2K   \u001b[90m━━━━━━━━━━━━━━━━━━━━━━━━━━━━━━━━━━━━━━━━\u001b[0m \u001b[32m5.7/5.7 MB\u001b[0m \u001b[31m47.8 MB/s\u001b[0m eta \u001b[36m0:00:00\u001b[0m\n",
      "\u001b[?25h\u001b[31mERROR: pip's dependency resolver does not currently take into account all the packages that are installed. This behaviour is the source of the following dependency conflicts.\n",
      "torch 2.6.0+cu124 requires nvidia-cublas-cu12==12.4.5.8; platform_system == \"Linux\" and platform_machine == \"x86_64\", but you have nvidia-cublas-cu12 12.5.3.2 which is incompatible.\n",
      "torch 2.6.0+cu124 requires nvidia-cuda-cupti-cu12==12.4.127; platform_system == \"Linux\" and platform_machine == \"x86_64\", but you have nvidia-cuda-cupti-cu12 12.5.82 which is incompatible.\n",
      "torch 2.6.0+cu124 requires nvidia-cuda-nvrtc-cu12==12.4.127; platform_system == \"Linux\" and platform_machine == \"x86_64\", but you have nvidia-cuda-nvrtc-cu12 12.5.82 which is incompatible.\n",
      "torch 2.6.0+cu124 requires nvidia-cuda-runtime-cu12==12.4.127; platform_system == \"Linux\" and platform_machine == \"x86_64\", but you have nvidia-cuda-runtime-cu12 12.5.82 which is incompatible.\n",
      "torch 2.6.0+cu124 requires nvidia-cudnn-cu12==9.1.0.70; platform_system == \"Linux\" and platform_machine == \"x86_64\", but you have nvidia-cudnn-cu12 9.3.0.75 which is incompatible.\n",
      "torch 2.6.0+cu124 requires nvidia-cufft-cu12==11.2.1.3; platform_system == \"Linux\" and platform_machine == \"x86_64\", but you have nvidia-cufft-cu12 11.2.3.61 which is incompatible.\n",
      "torch 2.6.0+cu124 requires nvidia-curand-cu12==10.3.5.147; platform_system == \"Linux\" and platform_machine == \"x86_64\", but you have nvidia-curand-cu12 10.3.6.82 which is incompatible.\n",
      "torch 2.6.0+cu124 requires nvidia-cusolver-cu12==11.6.1.9; platform_system == \"Linux\" and platform_machine == \"x86_64\", but you have nvidia-cusolver-cu12 11.6.3.83 which is incompatible.\n",
      "torch 2.6.0+cu124 requires nvidia-cusparse-cu12==12.3.1.170; platform_system == \"Linux\" and platform_machine == \"x86_64\", but you have nvidia-cusparse-cu12 12.5.1.3 which is incompatible.\n",
      "torch 2.6.0+cu124 requires nvidia-nvjitlink-cu12==12.4.127; platform_system == \"Linux\" and platform_machine == \"x86_64\", but you have nvidia-nvjitlink-cu12 12.5.82 which is incompatible.\n",
      "torch 2.6.0+cu124 requires sympy==1.13.1; python_version >= \"3.9\", but you have sympy 1.12 which is incompatible.\u001b[0m\u001b[31m\n",
      "\u001b[2K   \u001b[90m━━━━━━━━━━━━━━━━━━━━━━━━━━━━━━━━━━━━━━━━\u001b[0m \u001b[32m354.7/354.7 kB\u001b[0m \u001b[31m6.3 MB/s\u001b[0m eta \u001b[36m0:00:00\u001b[0m\n",
      "\u001b[2K   \u001b[90m━━━━━━━━━━━━━━━━━━━━━━━━━━━━━━━━━━━━━━━━\u001b[0m \u001b[32m491.2/491.2 kB\u001b[0m \u001b[31m23.8 MB/s\u001b[0m eta \u001b[36m0:00:00\u001b[0m\n",
      "\u001b[2K   \u001b[90m━━━━━━━━━━━━━━━━━━━━━━━━━━━━━━━━━━━━━━━━\u001b[0m \u001b[32m84.0/84.0 kB\u001b[0m \u001b[31m8.3 MB/s\u001b[0m eta \u001b[36m0:00:00\u001b[0m\n",
      "\u001b[2K   \u001b[90m━━━━━━━━━━━━━━━━━━━━━━━━━━━━━━━━━━━━━━━━\u001b[0m \u001b[32m116.3/116.3 kB\u001b[0m \u001b[31m13.0 MB/s\u001b[0m eta \u001b[36m0:00:00\u001b[0m\n",
      "\u001b[2K   \u001b[90m━━━━━━━━━━━━━━━━━━━━━━━━━━━━━━━━━━━━━━━━\u001b[0m \u001b[32m183.9/183.9 kB\u001b[0m \u001b[31m18.1 MB/s\u001b[0m eta \u001b[36m0:00:00\u001b[0m\n",
      "\u001b[2K   \u001b[90m━━━━━━━━━━━━━━━━━━━━━━━━━━━━━━━━━━━━━━━━\u001b[0m \u001b[32m143.5/143.5 kB\u001b[0m \u001b[31m14.5 MB/s\u001b[0m eta \u001b[36m0:00:00\u001b[0m\n",
      "\u001b[2K   \u001b[90m━━━━━━━━━━━━━━━━━━━━━━━━━━━━━━━━━━━━━━━━\u001b[0m \u001b[32m363.4/363.4 MB\u001b[0m \u001b[31m3.4 MB/s\u001b[0m eta \u001b[36m0:00:00\u001b[0m\n",
      "\u001b[2K   \u001b[90m━━━━━━━━━━━━━━━━━━━━━━━━━━━━━━━━━━━━━━━━\u001b[0m \u001b[32m13.8/13.8 MB\u001b[0m \u001b[31m77.0 MB/s\u001b[0m eta \u001b[36m0:00:00\u001b[0m\n",
      "\u001b[2K   \u001b[90m━━━━━━━━━━━━━━━━━━━━━━━━━━━━━━━━━━━━━━━━\u001b[0m \u001b[32m24.6/24.6 MB\u001b[0m \u001b[31m97.7 MB/s\u001b[0m eta \u001b[36m0:00:00\u001b[0m\n",
      "\u001b[2K   \u001b[90m━━━━━━━━━━━━━━━━━━━━━━━━━━━━━━━━━━━━━━━━\u001b[0m \u001b[32m883.7/883.7 kB\u001b[0m \u001b[31m61.3 MB/s\u001b[0m eta \u001b[36m0:00:00\u001b[0m\n",
      "\u001b[2K   \u001b[90m━━━━━━━━━━━━━━━━━━━━━━━━━━━━━━━━━━━━━━━━\u001b[0m \u001b[32m664.8/664.8 MB\u001b[0m \u001b[31m1.9 MB/s\u001b[0m eta \u001b[36m0:00:00\u001b[0m\n",
      "\u001b[2K   \u001b[90m━━━━━━━━━━━━━━━━━━━━━━━━━━━━━━━━━━━━━━━━\u001b[0m \u001b[32m211.5/211.5 MB\u001b[0m \u001b[31m11.6 MB/s\u001b[0m eta \u001b[36m0:00:00\u001b[0m\n",
      "\u001b[2K   \u001b[90m━━━━━━━━━━━━━━━━━━━━━━━━━━━━━━━━━━━━━━━━\u001b[0m \u001b[32m56.3/56.3 MB\u001b[0m \u001b[31m38.7 MB/s\u001b[0m eta \u001b[36m0:00:00\u001b[0m\n",
      "\u001b[2K   \u001b[90m━━━━━━━━━━━━━━━━━━━━━━━━━━━━━━━━━━━━━━━━\u001b[0m \u001b[32m127.9/127.9 MB\u001b[0m \u001b[31m19.2 MB/s\u001b[0m eta \u001b[36m0:00:00\u001b[0m\n",
      "\u001b[2K   \u001b[90m━━━━━━━━━━━━━━━━━━━━━━━━━━━━━━━━━━━━━━━━\u001b[0m \u001b[32m207.5/207.5 MB\u001b[0m \u001b[31m3.3 MB/s\u001b[0m eta \u001b[36m0:00:00\u001b[0m\n",
      "\u001b[2K   \u001b[90m━━━━━━━━━━━━━━━━━━━━━━━━━━━━━━━━━━━━━━━━\u001b[0m \u001b[32m21.1/21.1 MB\u001b[0m \u001b[31m101.5 MB/s\u001b[0m eta \u001b[36m0:00:00\u001b[0m\n",
      "\u001b[2K   \u001b[90m━━━━━━━━━━━━━━━━━━━━━━━━━━━━━━━━━━━━━━━━\u001b[0m \u001b[32m6.2/6.2 MB\u001b[0m \u001b[31m75.5 MB/s\u001b[0m eta \u001b[36m0:00:00\u001b[0m\n",
      "\u001b[2K   \u001b[90m━━━━━━━━━━━━━━━━━━━━━━━━━━━━━━━━━━━━━━━━\u001b[0m \u001b[32m194.8/194.8 kB\u001b[0m \u001b[31m18.2 MB/s\u001b[0m eta \u001b[36m0:00:00\u001b[0m\n",
      "\u001b[?25h\u001b[31mERROR: pip's dependency resolver does not currently take into account all the packages that are installed. This behaviour is the source of the following dependency conflicts.\n",
      "gcsfs 2025.3.2 requires fsspec==2025.3.2, but you have fsspec 2024.12.0 which is incompatible.\u001b[0m\u001b[31m\n",
      "\u001b[0m"
     ]
    }
   ],
   "source": [
    "# Install the librarys\n",
    "!pip install sympy==1.12 --quiet\n",
    "!pip install --upgrade transformers accelerate datasets evaluate --quiet"
   ]
  },
  {
   "cell_type": "code",
   "execution_count": 2,
   "metadata": {
    "id": "7zuzm1-UdgUs"
   },
   "outputs": [],
   "source": [
    "# Import all the librarys\n",
    "from datasets import load_dataset\n",
    "import matplotlib.pyplot as plt\n",
    "from transformers import AutoTokenizer, DataCollatorWithPadding, AutoModelForSequenceClassification, get_scheduler, TrainingArguments, Trainer\n",
    "from torch.utils.data import DataLoader\n",
    "import torch\n",
    "import evaluate\n",
    "import numpy as np\n",
    "from tqdm.auto import tqdm\n",
    "from accelerate import Accelerator\n",
    "from torch.optim import AdamW"
   ]
  },
  {
   "cell_type": "code",
   "execution_count": 3,
   "metadata": {
    "colab": {
     "base_uri": "https://localhost:8080/",
     "height": 608,
     "referenced_widgets": [
      "0baa747d7a3646a0a9a391763780e504",
      "af1e1b65b8504925b0b2e76ded98f80c",
      "7a7eb8b56dcd416a865d9c11a88351a1",
      "e235f076bd7c4f0899d6c811c7de6fcf",
      "fea782319c61475380f3d107e14bd88d",
      "7903f03d7e624b53b2a5d292b8011daf",
      "bc75c61bed5a4964941a67fc3f35a679",
      "5e67fe2141a74b3c977483115d137723",
      "374ed904e9e94cc7ad42209f16e2d508",
      "01bec23453ef4e5cb996af826fde7af3",
      "d4c781f6d046417bb8d2e17b2c2482ec",
      "0a7579198f18478e80a61cf74a27d7db",
      "23e2f1ed0edd4ca9b0472b06011e01be",
      "886cda2259f84d199843c625db6c81d1",
      "d2d89dec3c594fe59d278b843f42cd0a",
      "8f910fcc6cf346acb658136d084c5f72",
      "7bb461f8eb1845d8beb506394b877081",
      "934ae188998244c7885bb10e952e1cb2",
      "55caddd694024f41abc8584570326495",
      "713d170bec5647c098930429c17f90de",
      "cc25c201c69f4115868ef20e8554ce2b",
      "db6f3f36a25647db97c0a0c308e2b0a6",
      "0cc9a3d39e3b4a6a9efbf379cfc35cf6",
      "1fe574398cc040e9af7ecbf76c452c00",
      "fffd8fb6ce8e4452886871f04092db9c",
      "fe2b4521e41a43af96551fdc08bc6f87",
      "aef62dddafab4cf688a7402162cc802d",
      "b5ba55402fa548e3836e624f6a02c3d3",
      "cd7f89f8883a40c78ad81f028d5858e9",
      "6849c9ceed204fef8ffc7f13d9a45882",
      "fa090486f2834f7dbad0adb07bb9278d",
      "536278a01e6e42b59de32ed2a8883b8c",
      "817a6ffe184f4911815ff472ab193ff4",
      "bd719036915540bcb29f3516ac2f4baf",
      "b3027fe898254e0986a1a308f8760319",
      "4d38bef221304eb8996ead86a902a5e7",
      "75466643ba76463aaca1629aa2333c80",
      "d96e47632e504cc5ab8ee687dfdb64c0",
      "f0ec408a8bbf44f7b68cbbc60c26348f",
      "29f183401d9740ea92422cde78c227b2",
      "f0642fe555ba4ac6adbc41298aae01c8",
      "b01a2cc5fe91408ba8c4de9080559c3d",
      "6524460f65e946989910c8b8459f76ff",
      "00407790e9da4d8d9daaaba3ae7c1b31",
      "2f09336dde5b44e88010951a6d7b9ee4",
      "b5ba23e978d44ef585cb20ecfe5b99d6",
      "84e11cb76f1545b9a52e942194c4c5c8",
      "7e93bc56951d42769f799c99ad9950b1",
      "fba6258a35c64f2e8c12750b2eddd049",
      "45ee2c792c374694bbec6d4d37b6f527",
      "b8d588e8057548f48826a0211ccc30db",
      "f3f3ef67e1324cc6abd1f543a10161c9",
      "5c91e2c55f3b46cb84126165b909d1d6",
      "3a2abb4456a74b9a8f4afba5c390dab0",
      "f74431ef03a74015b1bfd7892cf74f81",
      "cd9c92653bf54f70a7f9d3ef3b9d35e5",
      "875fc46fbb364ddca5390fb0ea0d6b81",
      "80e1fc8a3d794911aba2fd3fe16ee5ca",
      "ab0c44cebc9d4e96a1357fc85583f311",
      "e968e89063e2465e952028720c4fa37f",
      "f9ac706b864c4bdeabcf14ab9b114e72",
      "4eed2458b48b43919cd5cfc128238b41",
      "67957b35814a4769b7b5f48195149cfb",
      "921fb4dafd0d4fde8c9ffdc67066d6fd",
      "d803fc253dea480a95dcc5b5e4256ae7",
      "3caceca27ec24b2781311d1a1c0acf82",
      "a12a4b408f3b447eacf3fd5aae742c53",
      "0cd2dc12cab646878e199a1ab0345783",
      "e9d747741b654b90a80b5a0c4980dc9d",
      "494ae2125eb545b9b189014cbc49c81f",
      "e54234ef894a4c42aaaeee317cf54b5f",
      "ad365a23348043b0855c1afb0cce99bf",
      "962cfd3e2dfe4aff885656df5546b732",
      "31321fdcf16d48ca9c40bff6551d721f",
      "a526187750cf46eb87f440dfa9d0ea4d",
      "5510598f7c104880aaae05ed91919d03",
      "c2d19ad566714bcb86b5de8922c80e77"
     ]
    },
    "collapsed": true,
    "id": "HkdTFFkP9e-n",
    "outputId": "58419e03-8d3a-4ebd-9cad-30aae2df0777"
   },
   "outputs": [
    {
     "name": "stderr",
     "output_type": "stream",
     "text": [
      "/usr/local/lib/python3.11/dist-packages/huggingface_hub/utils/_auth.py:94: UserWarning: \n",
      "The secret `HF_TOKEN` does not exist in your Colab secrets.\n",
      "To authenticate with the Hugging Face Hub, create a token in your settings tab (https://huggingface.co/settings/tokens), set it as secret in your Google Colab and restart your session.\n",
      "You will be able to reuse this secret in all of your notebooks.\n",
      "Please note that authentication is recommended but still optional to access public models or datasets.\n",
      "  warnings.warn(\n"
     ]
    },
    {
     "data": {
      "application/vnd.jupyter.widget-view+json": {
       "model_id": "0baa747d7a3646a0a9a391763780e504",
       "version_major": 2,
       "version_minor": 0
      },
      "text/plain": [
       "README.md:   0%|          | 0.00/7.81k [00:00<?, ?B/s]"
      ]
     },
     "metadata": {},
     "output_type": "display_data"
    },
    {
     "data": {
      "application/vnd.jupyter.widget-view+json": {
       "model_id": "0a7579198f18478e80a61cf74a27d7db",
       "version_major": 2,
       "version_minor": 0
      },
      "text/plain": [
       "train-00000-of-00001.parquet:   0%|          | 0.00/21.0M [00:00<?, ?B/s]"
      ]
     },
     "metadata": {},
     "output_type": "display_data"
    },
    {
     "data": {
      "application/vnd.jupyter.widget-view+json": {
       "model_id": "0cc9a3d39e3b4a6a9efbf379cfc35cf6",
       "version_major": 2,
       "version_minor": 0
      },
      "text/plain": [
       "test-00000-of-00001.parquet:   0%|          | 0.00/20.5M [00:00<?, ?B/s]"
      ]
     },
     "metadata": {},
     "output_type": "display_data"
    },
    {
     "data": {
      "application/vnd.jupyter.widget-view+json": {
       "model_id": "bd719036915540bcb29f3516ac2f4baf",
       "version_major": 2,
       "version_minor": 0
      },
      "text/plain": [
       "unsupervised-00000-of-00001.parquet:   0%|          | 0.00/42.0M [00:00<?, ?B/s]"
      ]
     },
     "metadata": {},
     "output_type": "display_data"
    },
    {
     "data": {
      "application/vnd.jupyter.widget-view+json": {
       "model_id": "2f09336dde5b44e88010951a6d7b9ee4",
       "version_major": 2,
       "version_minor": 0
      },
      "text/plain": [
       "Generating train split:   0%|          | 0/25000 [00:00<?, ? examples/s]"
      ]
     },
     "metadata": {},
     "output_type": "display_data"
    },
    {
     "data": {
      "application/vnd.jupyter.widget-view+json": {
       "model_id": "cd9c92653bf54f70a7f9d3ef3b9d35e5",
       "version_major": 2,
       "version_minor": 0
      },
      "text/plain": [
       "Generating test split:   0%|          | 0/25000 [00:00<?, ? examples/s]"
      ]
     },
     "metadata": {},
     "output_type": "display_data"
    },
    {
     "data": {
      "application/vnd.jupyter.widget-view+json": {
       "model_id": "a12a4b408f3b447eacf3fd5aae742c53",
       "version_major": 2,
       "version_minor": 0
      },
      "text/plain": [
       "Generating unsupervised split:   0%|          | 0/50000 [00:00<?, ? examples/s]"
      ]
     },
     "metadata": {},
     "output_type": "display_data"
    },
    {
     "data": {
      "text/plain": [
       "DatasetDict({\n",
       "    validation: Dataset({\n",
       "        features: ['text', 'label'],\n",
       "        num_rows: 5000\n",
       "    })\n",
       "    test: Dataset({\n",
       "        features: ['text', 'label'],\n",
       "        num_rows: 20000\n",
       "    })\n",
       "    train: Dataset({\n",
       "        features: ['text', 'label'],\n",
       "        num_rows: 25000\n",
       "    })\n",
       "})"
      ]
     },
     "execution_count": 3,
     "metadata": {},
     "output_type": "execute_result"
    }
   ],
   "source": [
    "# Load the IMBd dataset from HuggingFace Datasets\n",
    "raw_dataset = load_dataset(\"stanfordnlp/imdb\")\n",
    "\n",
    "# Split the dataset on valid, test and train\n",
    "dataset_clean = raw_dataset[\"test\"].train_test_split(train_size=0.8, seed=42)\n",
    "dataset_clean[\"validation\"] = dataset_clean.pop(\"test\")\n",
    "dataset_clean[\"test\"] = dataset_clean.pop(\"train\")\n",
    "dataset_clean[\"train\"] = raw_dataset[\"train\"]\n",
    "dataset_clean"
   ]
  },
  {
   "cell_type": "code",
   "execution_count": 4,
   "metadata": {
    "colab": {
     "base_uri": "https://localhost:8080/",
     "height": 241,
     "referenced_widgets": [
      "9a2629ac5b2e456f8983ce563d5c8d0a",
      "e633ffd78f1a4ef8af00ec4552b4f8f3",
      "41af256ad4344af39accf6d2ac946077",
      "1e3aef851a814e28ba5677998e29d7af",
      "9c2f541271b847e482a2ae7a0b139a31",
      "b5c772787cf344309f0c1e3945068c84",
      "1c584cca5a14454cba41ae5b3dc1a050",
      "f332322419064f489b11db36224bb1e3",
      "c94151182836447e85ec2146d0105fe3",
      "d20c5ad12974413f96985f78ff4124c1",
      "35454b098fc04402acbaea2744e3c358",
      "7215f4bb277e43d098ffcd4fbd90f671",
      "1507c2632e214faa8df7923eb7e23c98",
      "e6f3b241e0724a40904d0845f5467b9c",
      "579e42bb0a834e43b7d4bb0b34384d5f",
      "8c85cce1835f4054b7363036649ecbff",
      "e5d819a6870d4b8d882049ab757cd9ca",
      "2d96f09088d1422bae04f2d50d554b6c",
      "0742fe55cc3845d5baf4c73219e2d14c",
      "379338bf957d447cacbe27d27bab278a",
      "8959c54e4f4b438985d0c26266d2fa4b",
      "c914aae5a9cf49d0a56593989abc0b73",
      "331e95d95f564577aa0210c2d60f5ad7",
      "bbb153545cae4c49a9339977f8b3d0ce",
      "9aefe080af284632a29c594011c4b1eb",
      "d03abeb021324f77bee25e13973e3c6e",
      "614e83c9041c4aa083b502ff69745e4b",
      "85d70c875b6641aa8de0adb0ce265d38",
      "4f5175afcfe3481a81897be9cb95fde8",
      "b40626845b014df38f2a8234ed8a30c5",
      "3c40bf9d5edc43ab8410897a0b12ee73",
      "f55d8def7bbb460ea4011355a7ca53ab",
      "8ea2a6a7a501460299289c2ff3165f8b",
      "d44745c298ee4819ad0ef1a4c88d2986",
      "cdada7f82fa341399ac56e209d94349c",
      "d5e372ea0f2f40369085a67534f17325",
      "090486345ebc451585a46ac1a2382fc1",
      "5fa4ece0d54d4eaba69b9b0182538786",
      "6e2f36b9a60643e9993588923380a1bc",
      "95ccecfbfb664ca9ac5d957d244039a6",
      "1e5063a900cb45a696261cf60ee55110",
      "5377d2885ad24cebbfc0fca7eeb94316",
      "899208bc64b6486093334201eddf3f13",
      "fdd2343e640a421f804fcfff7087093f",
      "1d308d19802f4931bfba204ece58339d",
      "12d72c295c474002ac473ff7dc0d0f09",
      "113c6d7b828c4671b0d1ff0f27a16d27",
      "c5fc53eb1c544a49b0736e950af9fc99",
      "d6e8b57c82414769a331af45e347bbcf",
      "2e631368cb4b40b0b64b9f57e58ffac1",
      "64e05da1a8074cfa833f3038463ca160",
      "14ff3f9ab45246e19106db118153f18b",
      "3e096aa1480d4080a73c8f38f9f28184",
      "378c5d1604ad43bf818ea2efbc714702",
      "2431a5eb1a004792ab65f1c9b2af0a44",
      "9394890ed956454bb5ccf85e14713d5d",
      "b0a74b400e47473ab55f0a6868a06337",
      "bab1b734de6b4b868e6fef3bc6771ecf",
      "37864de583cb47aaa6dd2e89c02128bd",
      "d61c131e345e46c08287336d410cce72",
      "f324938727e5458dac2d3ffcfbe93ea4",
      "b4c4db552fb94cf4922ee3242d12a2da",
      "550a09e252e04a2e84871dafae19aa9c",
      "3d0f8918e3c845c5a6d8a239900b4b38",
      "012fc2a0bd5b4d0e82af95942180c175",
      "23c3c3b6a3e54351bbb6ac38a74beb80",
      "3bc8034e2a014fc6a4b3281f65d35be2",
      "69f6e0078b6246779a0244614ed9df35",
      "beb8197fa086459f8327824dfd5e09cb",
      "2816f7239a974a538e2a71796115c30f",
      "9108192cb9df4d8d9ef08f8109c343c7",
      "5ddaf70bfc844e3ba23db212ed6ea4df",
      "85d707fc74d64dd9b96a25477917e368",
      "0ec9bbefdf364b048f9e91392c060d84",
      "61ef94a63a024e68a7ae3c0d5c98cd4d",
      "a6557c37e1ee4c36b76f7d4a45f65c1e",
      "3d75073597704be8a119d774b42d464d"
     ]
    },
    "id": "aPIztRHtNtoD",
    "outputId": "48a1a717-be09-4b61-9cd7-fb1b01217d25"
   },
   "outputs": [
    {
     "data": {
      "application/vnd.jupyter.widget-view+json": {
       "model_id": "9a2629ac5b2e456f8983ce563d5c8d0a",
       "version_major": 2,
       "version_minor": 0
      },
      "text/plain": [
       "tokenizer_config.json:   0%|          | 0.00/48.0 [00:00<?, ?B/s]"
      ]
     },
     "metadata": {},
     "output_type": "display_data"
    },
    {
     "data": {
      "application/vnd.jupyter.widget-view+json": {
       "model_id": "7215f4bb277e43d098ffcd4fbd90f671",
       "version_major": 2,
       "version_minor": 0
      },
      "text/plain": [
       "config.json:   0%|          | 0.00/570 [00:00<?, ?B/s]"
      ]
     },
     "metadata": {},
     "output_type": "display_data"
    },
    {
     "data": {
      "application/vnd.jupyter.widget-view+json": {
       "model_id": "331e95d95f564577aa0210c2d60f5ad7",
       "version_major": 2,
       "version_minor": 0
      },
      "text/plain": [
       "vocab.txt:   0%|          | 0.00/232k [00:00<?, ?B/s]"
      ]
     },
     "metadata": {},
     "output_type": "display_data"
    },
    {
     "data": {
      "application/vnd.jupyter.widget-view+json": {
       "model_id": "d44745c298ee4819ad0ef1a4c88d2986",
       "version_major": 2,
       "version_minor": 0
      },
      "text/plain": [
       "tokenizer.json:   0%|          | 0.00/466k [00:00<?, ?B/s]"
      ]
     },
     "metadata": {},
     "output_type": "display_data"
    },
    {
     "data": {
      "application/vnd.jupyter.widget-view+json": {
       "model_id": "1d308d19802f4931bfba204ece58339d",
       "version_major": 2,
       "version_minor": 0
      },
      "text/plain": [
       "Map:   0%|          | 0/5000 [00:00<?, ? examples/s]"
      ]
     },
     "metadata": {},
     "output_type": "display_data"
    },
    {
     "data": {
      "application/vnd.jupyter.widget-view+json": {
       "model_id": "9394890ed956454bb5ccf85e14713d5d",
       "version_major": 2,
       "version_minor": 0
      },
      "text/plain": [
       "Map:   0%|          | 0/20000 [00:00<?, ? examples/s]"
      ]
     },
     "metadata": {},
     "output_type": "display_data"
    },
    {
     "data": {
      "application/vnd.jupyter.widget-view+json": {
       "model_id": "3bc8034e2a014fc6a4b3281f65d35be2",
       "version_major": 2,
       "version_minor": 0
      },
      "text/plain": [
       "Map:   0%|          | 0/25000 [00:00<?, ? examples/s]"
      ]
     },
     "metadata": {},
     "output_type": "display_data"
    }
   ],
   "source": [
    "# Tokenize the dataset with \"bert-base-uncased\"\n",
    "checkpoint = \"bert-base-uncased\"\n",
    "tokenizer = AutoTokenizer.from_pretrained(checkpoint)\n",
    "\n",
    "def tokenize_function(data):\n",
    "    return tokenizer(data[\"text\"], padding=True, truncation=True, max_length=256, return_tensors=\"pt\")\n",
    "\n",
    "tokenized_dataset = dataset_clean.map(tokenize_function, batched=True)\n",
    "tokenized_dataset = tokenized_dataset.remove_columns([\"text\"])\n",
    "tokenized_dataset = tokenized_dataset.rename_column(\"label\", \"labels\")\n",
    "\n",
    "data_collator = DataCollatorWithPadding(tokenizer=tokenizer)"
   ]
  },
  {
   "cell_type": "code",
   "execution_count": 5,
   "metadata": {
    "colab": {
     "base_uri": "https://localhost:8080/"
    },
    "id": "te7pJKIiPIHD",
    "outputId": "37ed4327-74e0-49dd-f709-4217b614115f"
   },
   "outputs": [
    {
     "data": {
      "text/plain": [
       "{'labels': torch.Size([8]),\n",
       " 'input_ids': torch.Size([8, 256]),\n",
       " 'token_type_ids': torch.Size([8, 256]),\n",
       " 'attention_mask': torch.Size([8, 256])}"
      ]
     },
     "execution_count": 5,
     "metadata": {},
     "output_type": "execute_result"
    }
   ],
   "source": [
    "# Create the dataloader (Manual training)\n",
    "train_dataloader = DataLoader(\n",
    "    tokenized_dataset[\"train\"], shuffle=True, batch_size=8, collate_fn=data_collator\n",
    ")\n",
    "\n",
    "test_dataloader = DataLoader(\n",
    "    tokenized_dataset[\"test\"], batch_size=8, collate_fn=data_collator\n",
    ")\n",
    "\n",
    "valid_dataloader = DataLoader(\n",
    "    tokenized_dataset[\"validation\"], batch_size=8, collate_fn=data_collator\n",
    ")\n",
    "\n",
    "# Let's see if the dataloader works\n",
    "for batch in train_dataloader:\n",
    "    break\n",
    "{k: v.shape for k, v in batch.items()}"
   ]
  },
  {
   "cell_type": "code",
   "execution_count": 6,
   "metadata": {
    "colab": {
     "base_uri": "https://localhost:8080/",
     "height": 81,
     "referenced_widgets": [
      "6fb5f5a9edd247f9818ac5c81d939710",
      "f477add6b962495ab9467a0ebe61c185",
      "87e505d9a1ff49d0a7d898f8dc966ac9",
      "75165dd4e3a9426babe3bfe19d2c47da",
      "81e6b80a6e0f404cb86681b07f9a55b9",
      "e44d16463a4c40a58dfc1b931e2a91c9",
      "e48ad30973d34538a1e1e31ccd2bf4ba",
      "b74660f652f0424791a62cfa1cd941ee",
      "fc405892454b4a00a60c97d0eefb5c57",
      "a585ef938c5d49fb95ff277cf6ff602a",
      "393ac337bd0f47039708290ccdd5b2ac",
      "38c45fc3593048c69abe7d29db51ceb9",
      "ea7eb6fe8d64494da04d6f3f7a227f9f",
      "da5d99361ac74c72ab345f6b69e3e41d",
      "0b5820c3ec524f8fb7f044d272af6bcd",
      "f6e7cd60b1764035832bd6bcae106a26",
      "7463aa5699e54428a3306b3b29cb85b9",
      "0f2473026ffb4534bd81020fa45a2394",
      "bd81318d41fb4c83a0f5ed4706c7e64a",
      "21accb3d01294b8aa68e138b3f22952f",
      "d4dcc837ce934836b1e21524eca40c24",
      "11f8c2a9af5c4850a4c534b2c9b50761"
     ]
    },
    "id": "wdKUqwdjcVdF",
    "outputId": "2c7c2ced-0e2b-4f85-e52c-02c4529cd6a3"
   },
   "outputs": [
    {
     "data": {
      "application/vnd.jupyter.widget-view+json": {
       "model_id": "6fb5f5a9edd247f9818ac5c81d939710",
       "version_major": 2,
       "version_minor": 0
      },
      "text/plain": [
       "Downloading builder script:   0%|          | 0.00/4.20k [00:00<?, ?B/s]"
      ]
     },
     "metadata": {},
     "output_type": "display_data"
    },
    {
     "data": {
      "application/vnd.jupyter.widget-view+json": {
       "model_id": "38c45fc3593048c69abe7d29db51ceb9",
       "version_major": 2,
       "version_minor": 0
      },
      "text/plain": [
       "Downloading builder script:   0%|          | 0.00/6.79k [00:00<?, ?B/s]"
      ]
     },
     "metadata": {},
     "output_type": "display_data"
    }
   ],
   "source": [
    "# Create the evaluation metrics\n",
    "accuracy = evaluate.load(\"accuracy\")\n",
    "f1 = evaluate.load(\"f1\")\n",
    "\n",
    "def compute_metrics(eval_pred):\n",
    "    logits, labels = eval_pred\n",
    "    predictions = np.argmax(logits, axis=-1)\n",
    "    acc = accuracy.compute(predictions=predictions, references=labels)\n",
    "    f1_score = f1.compute(predictions=predictions, references=labels, average=\"weighted\")\n",
    "    return {\n",
    "        \"accuracy\": acc[\"accuracy\"],\n",
    "        \"f1\": f1_score[\"f1\"]\n",
    "    }"
   ]
  },
  {
   "cell_type": "code",
   "execution_count": 7,
   "metadata": {
    "colab": {
     "base_uri": "https://localhost:8080/",
     "height": 138,
     "referenced_widgets": [
      "2b689995eb65434a86b029afc254288e",
      "7d7eb2f794dc40f0bf34a8a587d7cd96",
      "e6d4cfced59040f0bc60173aa0f0af2b",
      "988fc5eaac67408b91626bb75ffb4d44",
      "9977e5d1edd547b5814d592a70c2edbb",
      "8d1c546e80e74eefa9ea35982ed51194",
      "13fcb7fca5b943d188daca22b76a678d",
      "24cd3a5268dc4ebd887d9b7b09a7f2aa",
      "20bb7d5de7a9491e8987f66413bc6404",
      "eeeda312a32d492d811f3c8358709dc2",
      "8c75847670b047289ad58b652fe618ef"
     ]
    },
    "id": "cuoAbntdc214",
    "outputId": "b5a5ddeb-1360-4d85-b597-78d10df2a2d5"
   },
   "outputs": [
    {
     "name": "stderr",
     "output_type": "stream",
     "text": [
      "Xet Storage is enabled for this repo, but the 'hf_xet' package is not installed. Falling back to regular HTTP download. For better performance, install the package with: `pip install huggingface_hub[hf_xet]` or `pip install hf_xet`\n",
      "WARNING:huggingface_hub.file_download:Xet Storage is enabled for this repo, but the 'hf_xet' package is not installed. Falling back to regular HTTP download. For better performance, install the package with: `pip install huggingface_hub[hf_xet]` or `pip install hf_xet`\n"
     ]
    },
    {
     "data": {
      "application/vnd.jupyter.widget-view+json": {
       "model_id": "2b689995eb65434a86b029afc254288e",
       "version_major": 2,
       "version_minor": 0
      },
      "text/plain": [
       "model.safetensors:   0%|          | 0.00/440M [00:00<?, ?B/s]"
      ]
     },
     "metadata": {},
     "output_type": "display_data"
    },
    {
     "name": "stderr",
     "output_type": "stream",
     "text": [
      "Some weights of BertForSequenceClassification were not initialized from the model checkpoint at bert-base-uncased and are newly initialized: ['classifier.bias', 'classifier.weight']\n",
      "You should probably TRAIN this model on a down-stream task to be able to use it for predictions and inference.\n"
     ]
    }
   ],
   "source": [
    "# Load the model, the args and the \"trainer\" object.\n",
    "model = AutoModelForSequenceClassification.from_pretrained(checkpoint, num_labels=2)\n",
    "\n",
    "training_args = TrainingArguments(\n",
    "    output_dir=\"test_trainer\",\n",
    "    logging_dir=\"./logs\",\n",
    "    logging_strategy=\"epoch\",\n",
    "    eval_strategy=\"epoch\",\n",
    "    per_device_train_batch_size=8,\n",
    "    per_device_eval_batch_size=8,\n",
    "    num_train_epochs=5,\n",
    "    save_strategy=\"epoch\",\n",
    "    load_best_model_at_end=True,\n",
    "    metric_for_best_model=\"accuracy\",\n",
    "    report_to=\"none\"\n",
    "  )\n",
    "\n",
    "trainer = Trainer(\n",
    "    model=model,\n",
    "    args=training_args,\n",
    "    train_dataset=tokenized_dataset[\"train\"],\n",
    "    eval_dataset=tokenized_dataset[\"validation\"],\n",
    "    data_collator=data_collator,\n",
    "    compute_metrics=compute_metrics,\n",
    ")"
   ]
  },
  {
   "cell_type": "code",
   "execution_count": 8,
   "metadata": {
    "colab": {
     "base_uri": "https://localhost:8080/",
     "height": 267
    },
    "id": "xup1AN4umTRm",
    "outputId": "f6025378-5e3a-4b0d-f9ce-a39573701927"
   },
   "outputs": [
    {
     "data": {
      "text/html": [
       "\n",
       "    <div>\n",
       "      \n",
       "      <progress value='15625' max='15625' style='width:300px; height:20px; vertical-align: middle;'></progress>\n",
       "      [15625/15625 25:30, Epoch 5/5]\n",
       "    </div>\n",
       "    <table border=\"1\" class=\"dataframe\">\n",
       "  <thead>\n",
       " <tr style=\"text-align: left;\">\n",
       "      <th>Epoch</th>\n",
       "      <th>Training Loss</th>\n",
       "      <th>Validation Loss</th>\n",
       "      <th>Accuracy</th>\n",
       "      <th>F1</th>\n",
       "    </tr>\n",
       "  </thead>\n",
       "  <tbody>\n",
       "    <tr>\n",
       "      <td>1</td>\n",
       "      <td>0.365100</td>\n",
       "      <td>0.320777</td>\n",
       "      <td>0.898600</td>\n",
       "      <td>0.898508</td>\n",
       "    </tr>\n",
       "    <tr>\n",
       "      <td>2</td>\n",
       "      <td>0.234400</td>\n",
       "      <td>0.384765</td>\n",
       "      <td>0.906600</td>\n",
       "      <td>0.906478</td>\n",
       "    </tr>\n",
       "    <tr>\n",
       "      <td>3</td>\n",
       "      <td>0.120100</td>\n",
       "      <td>0.546423</td>\n",
       "      <td>0.895800</td>\n",
       "      <td>0.895385</td>\n",
       "    </tr>\n",
       "    <tr>\n",
       "      <td>4</td>\n",
       "      <td>0.049200</td>\n",
       "      <td>0.590795</td>\n",
       "      <td>0.911600</td>\n",
       "      <td>0.911573</td>\n",
       "    </tr>\n",
       "    <tr>\n",
       "      <td>5</td>\n",
       "      <td>0.017200</td>\n",
       "      <td>0.626709</td>\n",
       "      <td>0.912400</td>\n",
       "      <td>0.912399</td>\n",
       "    </tr>\n",
       "  </tbody>\n",
       "</table><p>"
      ],
      "text/plain": [
       "<IPython.core.display.HTML object>"
      ]
     },
     "metadata": {},
     "output_type": "display_data"
    },
    {
     "data": {
      "text/plain": [
       "TrainOutput(global_step=15625, training_loss=0.15720402319335938, metrics={'train_runtime': 1531.6092, 'train_samples_per_second': 81.614, 'train_steps_per_second': 10.202, 'total_flos': 1.644444096e+16, 'train_loss': 0.15720402319335938, 'epoch': 5.0})"
      ]
     },
     "execution_count": 8,
     "metadata": {},
     "output_type": "execute_result"
    }
   ],
   "source": [
    "# Train the model with .train()\n",
    "entrenamiento = trainer.train()\n",
    "entrenamiento"
   ]
  },
  {
   "cell_type": "code",
   "execution_count": 9,
   "metadata": {
    "colab": {
     "base_uri": "https://localhost:8080/",
     "height": 74
    },
    "id": "OFgYtCo9meMy",
    "outputId": "4a7895db-b58a-42f6-e881-249f1cb586b1"
   },
   "outputs": [
    {
     "data": {
      "text/html": [
       "\n",
       "    <div>\n",
       "      \n",
       "      <progress value='2500' max='2500' style='width:300px; height:20px; vertical-align: middle;'></progress>\n",
       "      [2500/2500 01:17]\n",
       "    </div>\n",
       "    "
      ],
      "text/plain": [
       "<IPython.core.display.HTML object>"
      ]
     },
     "metadata": {},
     "output_type": "display_data"
    },
    {
     "name": "stdout",
     "output_type": "stream",
     "text": [
      "Resultados finales: {'eval_loss': 0.5969551205635071, 'eval_accuracy': 0.9158, 'eval_f1': 0.9157966655347507, 'eval_runtime': 77.933, 'eval_samples_per_second': 256.631, 'eval_steps_per_second': 32.079, 'epoch': 5.0}\n"
     ]
    }
   ],
   "source": [
    "# Visualize the final results.\n",
    "test_results = trainer.evaluate(eval_dataset=tokenized_dataset[\"test\"])\n",
    "print(f\"Resultados finales: {test_results}\")"
   ]
  },
  {
   "cell_type": "markdown",
   "metadata": {
    "id": "nN4lrXoLsElt"
   },
   "source": [
    "## Hagamos entrenamiento manual"
   ]
  },
  {
   "cell_type": "code",
   "execution_count": 10,
   "metadata": {
    "colab": {
     "base_uri": "https://localhost:8080/",
     "height": 257,
     "referenced_widgets": [
      "5297c8d67fc34c618e46b5605d0a04d6",
      "6e117bbd244640d0944002c03addc8a7",
      "d42cceb5067c4f1e90b5aa14b35418fc",
      "64a9127cb2af476eb4665cf0d5c7f453",
      "a38d8aa756084330b24ff296c5bf38b1",
      "2a7f02564b7345809267316b8c12562c",
      "d656979e0177416e83840ee9cb7b8ac8",
      "a98345cb5a5340a2879eb9fbe88f5c8f",
      "5cb7a58a1c5e4ec685b0574e2f30d459",
      "7218e130475d481bbb457f9c2a1859a9",
      "9a09afa933754329a51d92ef9b173530"
     ]
    },
    "id": "qEoCvdr5rmZx",
    "outputId": "f41aebd3-39f9-45c8-b55f-df7a242591f1"
   },
   "outputs": [
    {
     "name": "stdout",
     "output_type": "stream",
     "text": [
      "cuda\n"
     ]
    },
    {
     "name": "stderr",
     "output_type": "stream",
     "text": [
      "Some weights of BertForSequenceClassification were not initialized from the model checkpoint at bert-base-uncased and are newly initialized: ['classifier.bias', 'classifier.weight']\n",
      "You should probably TRAIN this model on a down-stream task to be able to use it for predictions and inference.\n"
     ]
    },
    {
     "data": {
      "application/vnd.jupyter.widget-view+json": {
       "model_id": "5297c8d67fc34c618e46b5605d0a04d6",
       "version_major": 2,
       "version_minor": 0
      },
      "text/plain": [
       "  0%|          | 0/15625 [00:00<?, ?it/s]"
      ]
     },
     "metadata": {},
     "output_type": "display_data"
    },
    {
     "name": "stdout",
     "output_type": "stream",
     "text": [
      "Epoch: 1 -> Accuracy: 0.8964, F1: 0.8959\n",
      "--------------------------------------------------------------------------------\n",
      "Epoch: 2 -> Accuracy: 0.9212, F1: 0.9212\n",
      "--------------------------------------------------------------------------------\n",
      "Epoch: 3 -> Accuracy: 0.9162, F1: 0.9162\n",
      "--------------------------------------------------------------------------------\n",
      "Epoch: 4 -> Accuracy: 0.9198, F1: 0.9198\n",
      "--------------------------------------------------------------------------------\n",
      "Early stopping triggered\n"
     ]
    }
   ],
   "source": [
    "# Create the accelerator argument\n",
    "accelerator = Accelerator()\n",
    "print(accelerator.device)\n",
    "\n",
    "# Create model and metrics\n",
    "model = AutoModelForSequenceClassification.from_pretrained(checkpoint, num_labels=2)\n",
    "optimizer = AdamW(model.parameters(), lr=3e-5)\n",
    "\n",
    "# Create new variables with the accelerator.prepare\n",
    "train_dl, eval_dl, model, optimizer = accelerator.prepare(\n",
    "    train_dataloader, valid_dataloader, model, optimizer\n",
    ")\n",
    "\n",
    "num_epochs = 5\n",
    "patience = 2\n",
    "num_training_steps = num_epochs * len(train_dl)\n",
    "\n",
    "lr_scheduler = get_scheduler(\n",
    "    \"linear\",\n",
    "    optimizer = optimizer,\n",
    "    num_warmup_steps = 0,\n",
    "    num_training_steps = num_training_steps,\n",
    ")\n",
    "\n",
    "# Progress and metrics bar\n",
    "progress_bar = tqdm(range(num_training_steps))\n",
    "acc_score = []\n",
    "f1_score = []\n",
    "best_accuracy = 0\n",
    "counter = 0\n",
    "\n",
    "# Training Loop\n",
    "model.train()\n",
    "for epoch in range(num_epochs):\n",
    "  accuracy = evaluate.load(\"accuracy\")\n",
    "  f1 = evaluate.load(\"f1\")\n",
    "  for batch in train_dl:\n",
    "    outputs = model(**batch)\n",
    "    loss = outputs.loss\n",
    "    accelerator.backward(loss)\n",
    "\n",
    "    optimizer.step()\n",
    "    lr_scheduler.step()\n",
    "    optimizer.zero_grad()\n",
    "    progress_bar.update(1)\n",
    "\n",
    "  # Evaluation\n",
    "  model.eval()\n",
    "  for batch in eval_dl:\n",
    "    with torch.no_grad():\n",
    "      outputs = model(**batch)\n",
    "\n",
    "      logits = outputs.logits\n",
    "      predictions = torch.argmax(logits, dim=-1)\n",
    "      accuracy.add_batch(predictions=accelerator.gather(predictions),\n",
    "                       references=accelerator.gather(batch[\"labels\"]))\n",
    "      f1.add_batch(predictions=accelerator.gather(predictions),\n",
    "                       references=accelerator.gather(batch[\"labels\"]))\n",
    "\n",
    "\n",
    "  acc_result = accuracy.compute()\n",
    "  f1_result = f1.compute(average=\"weighted\")\n",
    "  acc_score.append(acc_result)\n",
    "  f1_score.append(f1_result)\n",
    "  accuracy_score = acc_result[\"accuracy\"]\n",
    "  if accuracy_score > best_accuracy:\n",
    "    best_accuracy = accuracy_score\n",
    "    counter = 0\n",
    "    unwrapped_model = accelerator.unwrap_model(model)\n",
    "    unwrapped_model.save_pretrained(\"best_model\")\n",
    "    tokenizer.save_pretrained(\"best_model\")\n",
    "\n",
    "  else:\n",
    "    counter += 1\n",
    "    if counter > patience:\n",
    "      print(\"Early stopping triggered\")\n",
    "      break\n",
    "\n",
    "\n",
    "  print(f\"Epoch: {epoch+1} -> Accuracy: {acc_result['accuracy']:.4f}, F1: {f1_result['f1']:.4f}\")\n",
    "  print(\"----\" * 20)"
   ]
  },
  {
   "cell_type": "code",
   "execution_count": 14,
   "metadata": {
    "colab": {
     "base_uri": "https://localhost:8080/",
     "height": 472
    },
    "id": "VE-_IeZnrmeA",
    "outputId": "1783a2cd-60f6-453c-da6f-a6ac47b65fc7"
   },
   "outputs": [
    {
     "data": {
      "image/png": "[encoded data removed]",
      "text/plain": [
       "<Figure size 640x480 with 1 Axes>"
      ]
     },
     "metadata": {},
     "output_type": "display_data"
    }
   ],
   "source": [
    "# Visualize the difference between both training loops\n",
    "acc_manual = [m[\"accuracy\"] for m in acc_score]\n",
    "acc_train = [0.898600, 0.906600, 0.895800, 0.911600, 0.912400]\n",
    "plt.plot(range(1, num_epochs+1), acc_manual, marker='o', c=\"m\")\n",
    "plt.plot(range(1, num_epochs+1), acc_train, marker='H', c=\"c\")\n",
    "plt.title(\"#volution per Epoch\")\n",
    "plt.xlabel(\"Epoch\")\n",
    "plt.ylabel(\"Accuracy\")\n",
    "plt.legend([\"Manual\", \"Train\"])\n",
    "plt.grid()\n",
    "plt.show()"
   ]
  },
  {
   "cell_type": "code",
   "execution_count": 16,
   "metadata": {
    "colab": {
     "base_uri": "https://localhost:8080/"
    },
    "id": "p59XzEagxUjs",
    "outputId": "c95fa2a6-0f1b-4212-ff43-d9c8d3cd8e6e"
   },
   "outputs": [
    {
     "name": "stdout",
     "output_type": "stream",
     "text": [
      "Manual Model Test Set Results:\n",
      "Accuracy: 0.921\n",
      "F1 score: 0.921\n",
      "Loss: 1.164\n",
      "Trainer Model Test Set Results:\n",
      "Accuracy: 0.916\n",
      "F1 score: 0.916\n",
      "Loss: 0.597\n"
     ]
    }
   ],
   "source": [
    "# Charge the best model and compare the results.\n",
    "model.eval()\n",
    "test_dl = accelerator.prepare(test_dataloader)\n",
    "test_accuracy = evaluate.load(\"accuracy\")\n",
    "test_f1 = evaluate.load(\"f1\")\n",
    "test_loss = []\n",
    "\n",
    "for batch in test_dl:\n",
    "    with torch.no_grad():\n",
    "        outputs = model(**batch)\n",
    "        predictions = torch.argmax(outputs.logits, dim=-1)\n",
    "        test_loss.append(outputs.loss.item())\n",
    "        test_accuracy.add_batch(predictions=accelerator.gather(predictions),\n",
    "                                references=accelerator.gather(batch[\"labels\"]))\n",
    "        test_f1.add_batch(predictions=accelerator.gather(predictions),\n",
    "                          references=accelerator.gather(batch[\"labels\"]))\n",
    "\n",
    "print(\"Manual Model Test Set Results:\")\n",
    "print(f\"Accuracy: {test_accuracy.compute()['accuracy']:.3f}\")\n",
    "print(f\"F1 score: {test_f1.compute(average='weighted')['f1']:.3f}\")\n",
    "print(f\"Loss: {(test_loss[-1]):.3f}\")\n",
    "\n",
    "print(\"Trainer Model Test Set Results:\")\n",
    "print(f\"Accuracy: {test_results['eval_accuracy']:.3f}\")\n",
    "print(f\"F1 score: {test_results['eval_f1']:.3f}\")\n",
    "print(f\"Loss: {test_results['eval_loss']:.3f}\")"
   ]
  }
 ],
 "metadata": {
  "accelerator": "GPU",
  "colab": {
   "gpuType": "A100",
   "machine_shape": "hm",
   "provenance": []
  },
  "kernelspec": {
   "display_name": "Python 3",
   "name": "python3"
  },
  "language_info": {
   "name": "python"
  }
 },
 "nbformat": 4,
 "nbformat_minor": 0
}
